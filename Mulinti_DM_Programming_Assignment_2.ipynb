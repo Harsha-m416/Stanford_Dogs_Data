{
  "nbformat": 4,
  "nbformat_minor": 0,
  "metadata": {
    "colab": {
      "provenance": [],
      "include_colab_link": true
    },
    "kernelspec": {
      "name": "python3",
      "display_name": "Python 3"
    },
    "language_info": {
      "name": "python"
    }
  },
  "cells": [
    {
      "cell_type": "markdown",
      "metadata": {
        "id": "view-in-github",
        "colab_type": "text"
      },
      "source": [
        "<a href=\"https://colab.research.google.com/github/Harsha-m416/Stanford_Dogs_Data/blob/main/Mulinti_DM_Programming_Assignment_2.ipynb\" target=\"_parent\"><img src=\"https://colab.research.google.com/assets/colab-badge.svg\" alt=\"Open In Colab\"/></a>"
      ]
    },
    {
      "cell_type": "code",
      "source": [
        "import os\n",
        "import numpy as np\n",
        "import pandas as pd\n",
        "import warnings\n",
        "\n",
        "from PIL import Image\n",
        "from skimage.color import rgb2gray\n",
        "import xml.etree.ElementTree as ET\n",
        "from skimage import io, exposure, filters\n",
        "\n",
        "from sklearn.model_selection import train_test_split\n",
        "from sklearn.preprocessing import StandardScaler\n",
        "\n",
        "from sklearn.neighbors import KNeighborsClassifier\n",
        "from sklearn.ensemble import AdaBoostClassifier\n",
        "from sklearn.neural_network import MLPClassifier\n",
        "from sklearn.svm import LinearSVR\n",
        "\n",
        "from sklearn.metrics import accuracy_score\n",
        "from sklearn.metrics import confusion_matrix\n",
        "from sklearn.model_selection import cross_val_score, StratifiedKFold, KFold\n",
        "\n",
        "\n",
        "import matplotlib.pyplot as plt"
      ],
      "metadata": {
        "id": "91Il5ulbK60x"
      },
      "execution_count": null,
      "outputs": []
    },
    {
      "cell_type": "code",
      "source": [
        "warnings.filterwarnings(\"ignore\")"
      ],
      "metadata": {
        "id": "8HPkX2IY1bTA"
      },
      "execution_count": null,
      "outputs": []
    },
    {
      "cell_type": "code",
      "source": [
        "def angle(dx, dy):\n",
        "    \"\"\"Calculate the angles between horizontal and vertical operators.\"\"\"\n",
        "    return np.mod(np.arctan2(dy, dx), np.pi)"
      ],
      "metadata": {
        "id": "je6g-GhFS-VL"
      },
      "execution_count": null,
      "outputs": []
    },
    {
      "cell_type": "code",
      "source": [
        "image_dir = \"/content/drive/MyDrive/data_mining/mulinti_images\"\n",
        "annotation_dir = \"/content/drive/MyDrive/data_mining/mulinti_annotation\""
      ],
      "metadata": {
        "id": "RldYCZcAMBAL"
      },
      "execution_count": null,
      "outputs": []
    },
    {
      "cell_type": "code",
      "source": [
        "class_names = ['Basenji','Airedale','Brittany_spaniel','Bouvier_des_flandres']"
      ],
      "metadata": {
        "id": "zEl4FZSEL421"
      },
      "execution_count": null,
      "outputs": []
    },
    {
      "cell_type": "code",
      "source": [
        "class_names"
      ],
      "metadata": {
        "colab": {
          "base_uri": "https://localhost:8080/"
        },
        "id": "OqfDC_GwM6cB",
        "outputId": "a640386a-f361-4a4a-8dc5-9c0b961aa18d"
      },
      "execution_count": null,
      "outputs": [
        {
          "output_type": "execute_result",
          "data": {
            "text/plain": [
              "['Basenji', 'Airedale', 'Brittany_spaniel', 'Bouvier_des_flandres']"
            ]
          },
          "metadata": {},
          "execution_count": 14
        }
      ]
    },
    {
      "cell_type": "code",
      "source": [
        "class_paths = []\n",
        "for i in os.listdir(image_dir):\n",
        "  for j in class_names:\n",
        "    if j.lower() in i.lower():\n",
        "      class_paths.append(i)"
      ],
      "metadata": {
        "id": "cYGh-TlXMTpx"
      },
      "execution_count": null,
      "outputs": []
    },
    {
      "cell_type": "code",
      "source": [
        "class_paths"
      ],
      "metadata": {
        "id": "H58opAyPPewd",
        "colab": {
          "base_uri": "https://localhost:8080/"
        },
        "outputId": "8b51fa7e-481b-417f-e79f-73e454dd84b8"
      },
      "execution_count": null,
      "outputs": [
        {
          "output_type": "execute_result",
          "data": {
            "text/plain": [
              "['n02096051-Airedale',\n",
              " 'n02101388-Brittany_spaniel',\n",
              " 'n02106382-Bouvier_des_Flandres',\n",
              " 'n02110806-basenji']"
            ]
          },
          "metadata": {},
          "execution_count": 17
        }
      ]
    },
    {
      "cell_type": "markdown",
      "source": [
        "## Edge histogram Data"
      ],
      "metadata": {
        "id": "itnZ5n2yerWd"
      }
    },
    {
      "cell_type": "code",
      "source": [
        "new_dir = \"/content/drive/MyDrive/data_mining/processed\""
      ],
      "metadata": {
        "id": "Wt7bIxo0Op38"
      },
      "execution_count": null,
      "outputs": []
    },
    {
      "cell_type": "code",
      "source": [
        "df = pd.DataFrame(columns = list(range(0,36))+['class'])\n",
        "for class_ in class_paths:\n",
        "  class_path = os.path.join(new_dir,class_)\n",
        "  for filename in os.listdir(class_path):\n",
        "    img = io.imread(os.path.join(class_path,filename))\n",
        "    gray_sacle = rgb2gray(img)\n",
        "    angle_sobel = angle(filters.sobel_h(gray_sacle),\n",
        "                    filters.sobel_v(gray_sacle))\n",
        "    hist,bins = exposure.histogram(angle_sobel,nbins=36)\n",
        "    for i in class_names:\n",
        "      if i.lower() in class_.lower():\n",
        "        break\n",
        "    df.loc[len(df)] = list(hist)+[class_names.index(i)]\n",
        "\n",
        "\n"
      ],
      "metadata": {
        "id": "hSsSTDBkQCKw"
      },
      "execution_count": null,
      "outputs": []
    },
    {
      "cell_type": "code",
      "source": [
        "df.to_csv(\"/content/drive/MyDrive/ajas/edge_hist_data.csv\")"
      ],
      "metadata": {
        "id": "cdHaJmJKVmvv"
      },
      "execution_count": null,
      "outputs": []
    },
    {
      "cell_type": "markdown",
      "source": [
        "## Split into Test Train"
      ],
      "metadata": {
        "id": "EFbMXC_AexE-"
      }
    },
    {
      "cell_type": "code",
      "source": [
        "X = np.array(df[df.columns[:-1]])\n",
        "y = np.array(df['class'])"
      ],
      "metadata": {
        "id": "yOY9myiYZc6V"
      },
      "execution_count": null,
      "outputs": []
    },
    {
      "cell_type": "code",
      "source": [
        "X_train, X_test, y_train, y_test = train_test_split(X,y,test_size=0.2)"
      ],
      "metadata": {
        "id": "hUOQ_5XhZON4"
      },
      "execution_count": null,
      "outputs": []
    },
    {
      "cell_type": "markdown",
      "source": [
        "## Scale"
      ],
      "metadata": {
        "id": "zqRn6WCZe1_b"
      }
    },
    {
      "cell_type": "code",
      "source": [
        "scaler = StandardScaler()\n",
        "scaler.fit(X_train)"
      ],
      "metadata": {
        "colab": {
          "base_uri": "https://localhost:8080/",
          "height": 74
        },
        "id": "PtYmBzHrbdvk",
        "outputId": "5bac713d-94d2-497c-f2bc-d56c6cdf2ac0"
      },
      "execution_count": null,
      "outputs": [
        {
          "output_type": "execute_result",
          "data": {
            "text/plain": [
              "StandardScaler()"
            ],
            "text/html": [
              "<style>#sk-container-id-1 {color: black;background-color: white;}#sk-container-id-1 pre{padding: 0;}#sk-container-id-1 div.sk-toggleable {background-color: white;}#sk-container-id-1 label.sk-toggleable__label {cursor: pointer;display: block;width: 100%;margin-bottom: 0;padding: 0.3em;box-sizing: border-box;text-align: center;}#sk-container-id-1 label.sk-toggleable__label-arrow:before {content: \"▸\";float: left;margin-right: 0.25em;color: #696969;}#sk-container-id-1 label.sk-toggleable__label-arrow:hover:before {color: black;}#sk-container-id-1 div.sk-estimator:hover label.sk-toggleable__label-arrow:before {color: black;}#sk-container-id-1 div.sk-toggleable__content {max-height: 0;max-width: 0;overflow: hidden;text-align: left;background-color: #f0f8ff;}#sk-container-id-1 div.sk-toggleable__content pre {margin: 0.2em;color: black;border-radius: 0.25em;background-color: #f0f8ff;}#sk-container-id-1 input.sk-toggleable__control:checked~div.sk-toggleable__content {max-height: 200px;max-width: 100%;overflow: auto;}#sk-container-id-1 input.sk-toggleable__control:checked~label.sk-toggleable__label-arrow:before {content: \"▾\";}#sk-container-id-1 div.sk-estimator input.sk-toggleable__control:checked~label.sk-toggleable__label {background-color: #d4ebff;}#sk-container-id-1 div.sk-label input.sk-toggleable__control:checked~label.sk-toggleable__label {background-color: #d4ebff;}#sk-container-id-1 input.sk-hidden--visually {border: 0;clip: rect(1px 1px 1px 1px);clip: rect(1px, 1px, 1px, 1px);height: 1px;margin: -1px;overflow: hidden;padding: 0;position: absolute;width: 1px;}#sk-container-id-1 div.sk-estimator {font-family: monospace;background-color: #f0f8ff;border: 1px dotted black;border-radius: 0.25em;box-sizing: border-box;margin-bottom: 0.5em;}#sk-container-id-1 div.sk-estimator:hover {background-color: #d4ebff;}#sk-container-id-1 div.sk-parallel-item::after {content: \"\";width: 100%;border-bottom: 1px solid gray;flex-grow: 1;}#sk-container-id-1 div.sk-label:hover label.sk-toggleable__label {background-color: #d4ebff;}#sk-container-id-1 div.sk-serial::before {content: \"\";position: absolute;border-left: 1px solid gray;box-sizing: border-box;top: 0;bottom: 0;left: 50%;z-index: 0;}#sk-container-id-1 div.sk-serial {display: flex;flex-direction: column;align-items: center;background-color: white;padding-right: 0.2em;padding-left: 0.2em;position: relative;}#sk-container-id-1 div.sk-item {position: relative;z-index: 1;}#sk-container-id-1 div.sk-parallel {display: flex;align-items: stretch;justify-content: center;background-color: white;position: relative;}#sk-container-id-1 div.sk-item::before, #sk-container-id-1 div.sk-parallel-item::before {content: \"\";position: absolute;border-left: 1px solid gray;box-sizing: border-box;top: 0;bottom: 0;left: 50%;z-index: -1;}#sk-container-id-1 div.sk-parallel-item {display: flex;flex-direction: column;z-index: 1;position: relative;background-color: white;}#sk-container-id-1 div.sk-parallel-item:first-child::after {align-self: flex-end;width: 50%;}#sk-container-id-1 div.sk-parallel-item:last-child::after {align-self: flex-start;width: 50%;}#sk-container-id-1 div.sk-parallel-item:only-child::after {width: 0;}#sk-container-id-1 div.sk-dashed-wrapped {border: 1px dashed gray;margin: 0 0.4em 0.5em 0.4em;box-sizing: border-box;padding-bottom: 0.4em;background-color: white;}#sk-container-id-1 div.sk-label label {font-family: monospace;font-weight: bold;display: inline-block;line-height: 1.2em;}#sk-container-id-1 div.sk-label-container {text-align: center;}#sk-container-id-1 div.sk-container {/* jupyter's `normalize.less` sets `[hidden] { display: none; }` but bootstrap.min.css set `[hidden] { display: none !important; }` so we also need the `!important` here to be able to override the default hidden behavior on the sphinx rendered scikit-learn.org. See: https://github.com/scikit-learn/scikit-learn/issues/21755 */display: inline-block !important;position: relative;}#sk-container-id-1 div.sk-text-repr-fallback {display: none;}</style><div id=\"sk-container-id-1\" class=\"sk-top-container\"><div class=\"sk-text-repr-fallback\"><pre>StandardScaler()</pre><b>In a Jupyter environment, please rerun this cell to show the HTML representation or trust the notebook. <br />On GitHub, the HTML representation is unable to render, please try loading this page with nbviewer.org.</b></div><div class=\"sk-container\" hidden><div class=\"sk-item\"><div class=\"sk-estimator sk-toggleable\"><input class=\"sk-toggleable__control sk-hidden--visually\" id=\"sk-estimator-id-1\" type=\"checkbox\" checked><label for=\"sk-estimator-id-1\" class=\"sk-toggleable__label sk-toggleable__label-arrow\">StandardScaler</label><div class=\"sk-toggleable__content\"><pre>StandardScaler()</pre></div></div></div></div></div>"
            ]
          },
          "metadata": {},
          "execution_count": 28
        }
      ]
    },
    {
      "cell_type": "code",
      "source": [
        "scalled_x_train = scaler.transform(X_train)\n",
        "scalled_x_test = scaler.transform(X_test)"
      ],
      "metadata": {
        "id": "0V289oqXeRD-"
      },
      "execution_count": null,
      "outputs": []
    },
    {
      "cell_type": "markdown",
      "source": [
        "## KNN K-fold"
      ],
      "metadata": {
        "id": "MM9kjWyVe7yM"
      }
    },
    {
      "cell_type": "code",
      "source": [
        "mean_val_errors_std = []\n",
        "mean_val_errors_strat = []\n",
        "mean_train_errors_std = []\n",
        "mean_train_errors_strat = []\n",
        "k_values = [1, 3, 5, 7, 10, 20]\n",
        "for k in k_values:\n",
        "    # Standard 5-fold cross-validation\n",
        "    kf = KFold(n_splits=5)\n",
        "    knn1 = KNeighborsClassifier(n_neighbors=k)\n",
        "    val_scores_std = cross_val_score(knn1, scalled_x_train, y_train, cv=kf)\n",
        "    train_scores_std = knn1.fit(scalled_x_train, y_train).score(scalled_x_train, y_train)\n",
        "    mean_val_errors_std.append(1 - np.mean(val_scores_std))\n",
        "    mean_train_errors_std.append(1 - train_scores_std)\n",
        "    print(f\"Standard 5-fold CV, k={k}: Train accuracy: {train_scores_std},Val accuracy: {np.mean(val_scores_std)}\")\n",
        "    knn2 = KNeighborsClassifier(n_neighbors=k)\n",
        "    skf = StratifiedKFold(n_splits=5)\n",
        "    val_scores_strat = cross_val_score(knn2, scalled_x_train, y_train, cv=skf)\n",
        "    train_scores_strat = knn2.fit(scalled_x_train, y_train).score(scalled_x_train, y_train)\n",
        "    mean_val_errors_strat.append(1 - np.mean(val_scores_strat))\n",
        "    mean_train_errors_strat.append(1 - train_scores_strat)\n",
        "    print(f\"Stratified 5-fold CV, k={k}: Train accuracy: {train_scores_strat},Val accuracy {np.mean(val_scores_strat)}\")\n"
      ],
      "metadata": {
        "colab": {
          "base_uri": "https://localhost:8080/"
        },
        "id": "ye5CRjAjfIcn",
        "outputId": "b72f10a8-2d20-4992-a19f-c13bc4cdea8a"
      },
      "execution_count": null,
      "outputs": [
        {
          "output_type": "stream",
          "name": "stdout",
          "text": [
            "Standard 5-fold CV, k=1: Train accuracy: 0.9982456140350877,Val accuracy: 0.30350877192982456\n",
            "Stratified 5-fold CV, k=1: Train accuracy: 0.9982456140350877,Val accuracy 0.30701754385964913\n",
            "Standard 5-fold CV, k=3: Train accuracy: 0.6192982456140351,Val accuracy: 0.3140350877192982\n",
            "Stratified 5-fold CV, k=3: Train accuracy: 0.6192982456140351,Val accuracy 0.30877192982456136\n",
            "Standard 5-fold CV, k=5: Train accuracy: 0.5456140350877193,Val accuracy: 0.35438596491228064\n",
            "Stratified 5-fold CV, k=5: Train accuracy: 0.5456140350877193,Val accuracy 0.34210526315789475\n",
            "Standard 5-fold CV, k=7: Train accuracy: 0.5298245614035088,Val accuracy: 0.35614035087719303\n",
            "Stratified 5-fold CV, k=7: Train accuracy: 0.5298245614035088,Val accuracy 0.3508771929824561\n",
            "Standard 5-fold CV, k=10: Train accuracy: 0.49298245614035086,Val accuracy: 0.3456140350877193\n",
            "Stratified 5-fold CV, k=10: Train accuracy: 0.49298245614035086,Val accuracy 0.34385964912280703\n",
            "Standard 5-fold CV, k=20: Train accuracy: 0.4473684210526316,Val accuracy: 0.3614035087719298\n",
            "Stratified 5-fold CV, k=20: Train accuracy: 0.4473684210526316,Val accuracy 0.3684210526315789\n"
          ]
        }
      ]
    },
    {
      "cell_type": "code",
      "source": [
        "fig,ax = plt.subplots()\n",
        "ax.plot(k_values,mean_train_errors_std,label=\"Standard Train Score\")\n",
        "ax.plot(k_values,mean_val_errors_std,label=\"Standard Val Score\")\n",
        "ax.plot(k_values,mean_train_errors_strat,label=\"Standard Train Score\")\n",
        "ax.plot(k_values,mean_val_errors_strat,label=\"Stratified Val Score\")\n",
        "ax.legend()\n",
        "plt.show()"
      ],
      "metadata": {
        "colab": {
          "base_uri": "https://localhost:8080/",
          "height": 430
        },
        "id": "GqMO3JJBnaiz",
        "outputId": "f0f5c6e5-6c4d-4f65-ed61-579c4b13dc62"
      },
      "execution_count": null,
      "outputs": [
        {
          "output_type": "display_data",
          "data": {
            "text/plain": [
              "<Figure size 640x480 with 1 Axes>"
            ],
            "image/png": "[encoded data removed]"
          },
          "metadata": {}
        }
      ]
    },
    {
      "cell_type": "code",
      "source": [
        "print(f\"Lowest Standrad Training mean Error is {np.min(mean_train_errors_std)} at  k =  {k_values[np.argmin(mean_train_errors_std)]}\")\n",
        "print(f\"Lowest Standrad Val mean Error is {np.min(mean_val_errors_std)}  at  k = {k_values[np.argmin(mean_val_errors_std)]}\")\n",
        "print(f\"Lowest Stratified Training mean Error is {np.min(mean_train_errors_strat)} at k = {k_values[np.argmin(mean_train_errors_strat)]}\")\n",
        "print(f\"Lowest Stratified Val mean Error is {np.min(mean_val_errors_strat)} at k = {k_values[np.argmin(mean_val_errors_strat)]}\")"
      ],
      "metadata": {
        "colab": {
          "base_uri": "https://localhost:8080/"
        },
        "id": "W7K5az-AreFj",
        "outputId": "06e12226-13a1-46e5-d891-4a9eb291483d"
      },
      "execution_count": null,
      "outputs": [
        {
          "output_type": "stream",
          "name": "stdout",
          "text": [
            "Lowest Standrad Training mean Error is 0.0017543859649122862 at  k =  1\n",
            "Lowest Standrad Val mean Error is 0.6385964912280702  at  k = 20\n",
            "Lowest Stratified Training mean Error is 0.0017543859649122862 at k = 1\n",
            "Lowest Stratified Val mean Error is 0.631578947368421 at k = 20\n"
          ]
        }
      ]
    },
    {
      "cell_type": "markdown",
      "source": [
        "Overfiting at K =1 as Train error is low and val error is high."
      ],
      "metadata": {
        "id": "sphWxxmQsnD-"
      }
    },
    {
      "cell_type": "markdown",
      "source": [
        "As Stratified Val error is lowest at k = 20"
      ],
      "metadata": {
        "id": "sqiBYls4tHz3"
      }
    },
    {
      "cell_type": "code",
      "source": [
        "knn = KNeighborsClassifier(n_neighbors=20)\n",
        "knn.fit(scalled_x_train,y_train)"
      ],
      "metadata": {
        "colab": {
          "base_uri": "https://localhost:8080/",
          "height": 74
        },
        "id": "gkrLwhxqtF54",
        "outputId": "de089f00-35d7-4b6b-b1b2-5833f7f4bf48"
      },
      "execution_count": null,
      "outputs": [
        {
          "output_type": "execute_result",
          "data": {
            "text/plain": [
              "KNeighborsClassifier(n_neighbors=20)"
            ],
            "text/html": [
              "<style>#sk-container-id-2 {color: black;background-color: white;}#sk-container-id-2 pre{padding: 0;}#sk-container-id-2 div.sk-toggleable {background-color: white;}#sk-container-id-2 label.sk-toggleable__label {cursor: pointer;display: block;width: 100%;margin-bottom: 0;padding: 0.3em;box-sizing: border-box;text-align: center;}#sk-container-id-2 label.sk-toggleable__label-arrow:before {content: \"▸\";float: left;margin-right: 0.25em;color: #696969;}#sk-container-id-2 label.sk-toggleable__label-arrow:hover:before {color: black;}#sk-container-id-2 div.sk-estimator:hover label.sk-toggleable__label-arrow:before {color: black;}#sk-container-id-2 div.sk-toggleable__content {max-height: 0;max-width: 0;overflow: hidden;text-align: left;background-color: #f0f8ff;}#sk-container-id-2 div.sk-toggleable__content pre {margin: 0.2em;color: black;border-radius: 0.25em;background-color: #f0f8ff;}#sk-container-id-2 input.sk-toggleable__control:checked~div.sk-toggleable__content {max-height: 200px;max-width: 100%;overflow: auto;}#sk-container-id-2 input.sk-toggleable__control:checked~label.sk-toggleable__label-arrow:before {content: \"▾\";}#sk-container-id-2 div.sk-estimator input.sk-toggleable__control:checked~label.sk-toggleable__label {background-color: #d4ebff;}#sk-container-id-2 div.sk-label input.sk-toggleable__control:checked~label.sk-toggleable__label {background-color: #d4ebff;}#sk-container-id-2 input.sk-hidden--visually {border: 0;clip: rect(1px 1px 1px 1px);clip: rect(1px, 1px, 1px, 1px);height: 1px;margin: -1px;overflow: hidden;padding: 0;position: absolute;width: 1px;}#sk-container-id-2 div.sk-estimator {font-family: monospace;background-color: #f0f8ff;border: 1px dotted black;border-radius: 0.25em;box-sizing: border-box;margin-bottom: 0.5em;}#sk-container-id-2 div.sk-estimator:hover {background-color: #d4ebff;}#sk-container-id-2 div.sk-parallel-item::after {content: \"\";width: 100%;border-bottom: 1px solid gray;flex-grow: 1;}#sk-container-id-2 div.sk-label:hover label.sk-toggleable__label {background-color: #d4ebff;}#sk-container-id-2 div.sk-serial::before {content: \"\";position: absolute;border-left: 1px solid gray;box-sizing: border-box;top: 0;bottom: 0;left: 50%;z-index: 0;}#sk-container-id-2 div.sk-serial {display: flex;flex-direction: column;align-items: center;background-color: white;padding-right: 0.2em;padding-left: 0.2em;position: relative;}#sk-container-id-2 div.sk-item {position: relative;z-index: 1;}#sk-container-id-2 div.sk-parallel {display: flex;align-items: stretch;justify-content: center;background-color: white;position: relative;}#sk-container-id-2 div.sk-item::before, #sk-container-id-2 div.sk-parallel-item::before {content: \"\";position: absolute;border-left: 1px solid gray;box-sizing: border-box;top: 0;bottom: 0;left: 50%;z-index: -1;}#sk-container-id-2 div.sk-parallel-item {display: flex;flex-direction: column;z-index: 1;position: relative;background-color: white;}#sk-container-id-2 div.sk-parallel-item:first-child::after {align-self: flex-end;width: 50%;}#sk-container-id-2 div.sk-parallel-item:last-child::after {align-self: flex-start;width: 50%;}#sk-container-id-2 div.sk-parallel-item:only-child::after {width: 0;}#sk-container-id-2 div.sk-dashed-wrapped {border: 1px dashed gray;margin: 0 0.4em 0.5em 0.4em;box-sizing: border-box;padding-bottom: 0.4em;background-color: white;}#sk-container-id-2 div.sk-label label {font-family: monospace;font-weight: bold;display: inline-block;line-height: 1.2em;}#sk-container-id-2 div.sk-label-container {text-align: center;}#sk-container-id-2 div.sk-container {/* jupyter's `normalize.less` sets `[hidden] { display: none; }` but bootstrap.min.css set `[hidden] { display: none !important; }` so we also need the `!important` here to be able to override the default hidden behavior on the sphinx rendered scikit-learn.org. See: https://github.com/scikit-learn/scikit-learn/issues/21755 */display: inline-block !important;position: relative;}#sk-container-id-2 div.sk-text-repr-fallback {display: none;}</style><div id=\"sk-container-id-2\" class=\"sk-top-container\"><div class=\"sk-text-repr-fallback\"><pre>KNeighborsClassifier(n_neighbors=20)</pre><b>In a Jupyter environment, please rerun this cell to show the HTML representation or trust the notebook. <br />On GitHub, the HTML representation is unable to render, please try loading this page with nbviewer.org.</b></div><div class=\"sk-container\" hidden><div class=\"sk-item\"><div class=\"sk-estimator sk-toggleable\"><input class=\"sk-toggleable__control sk-hidden--visually\" id=\"sk-estimator-id-2\" type=\"checkbox\" checked><label for=\"sk-estimator-id-2\" class=\"sk-toggleable__label sk-toggleable__label-arrow\">KNeighborsClassifier</label><div class=\"sk-toggleable__content\"><pre>KNeighborsClassifier(n_neighbors=20)</pre></div></div></div></div></div>"
            ]
          },
          "metadata": {},
          "execution_count": 36
        }
      ]
    },
    {
      "cell_type": "code",
      "source": [
        "error = 1- knn.score(scalled_x_test,y_test)"
      ],
      "metadata": {
        "id": "v2r6iqqRtv7V"
      },
      "execution_count": null,
      "outputs": []
    },
    {
      "cell_type": "code",
      "source": [
        "error"
      ],
      "metadata": {
        "colab": {
          "base_uri": "https://localhost:8080/"
        },
        "id": "rBPC7iLkuxTB",
        "outputId": "975ccb4f-63b8-43b8-a2fa-bbd5592003c0"
      },
      "execution_count": null,
      "outputs": [
        {
          "output_type": "execute_result",
          "data": {
            "text/plain": [
              "0.6783216783216783"
            ]
          },
          "metadata": {},
          "execution_count": 38
        }
      ]
    },
    {
      "cell_type": "markdown",
      "source": [
        "Test Score = 0.6783216783216783"
      ],
      "metadata": {
        "id": "9Iqx084nuCLK"
      }
    },
    {
      "cell_type": "markdown",
      "source": [
        "## Performance Comparison"
      ],
      "metadata": {
        "id": "0pyqAnxX1pWa"
      }
    },
    {
      "cell_type": "code",
      "source": [
        "from sklearn.metrics import accuracy_score"
      ],
      "metadata": {
        "id": "hSfSatkD6_oF"
      },
      "execution_count": null,
      "outputs": []
    },
    {
      "cell_type": "code",
      "source": [
        "classifiers = {\n",
        "    'Support Vector Machine': LinearSVR(),\n",
        "    'Neural Network': MLPClassifier(hidden_layer_sizes = (10, 10, 10, )),\n",
        "    'Ada Boost': AdaBoostClassifier()\n",
        "}\n",
        "\n",
        "\n",
        "skf = StratifiedKFold(n_splits=5, shuffle=True, random_state=42)\n",
        "\n",
        "val_scores_all = []\n",
        "for clf_name, clf in classifiers.items():\n",
        "    val_classifier_score = []\n",
        "    for fold, (start_train_index, val_index) in enumerate(skf.split(scalled_x_train, y_train)):\n",
        "        X_start_train, X_val = scalled_x_train[start_train_index], scalled_x_train[val_index]\n",
        "        y_start_train, y_val = y_train[start_train_index], y_train[val_index]\n",
        "\n",
        "        clf.fit(X_start_train, y_start_train)\n",
        "\n",
        "        y_pred = clf.predict(X_val)\n",
        "        if clf_name == \"Support Vector Machine\":\n",
        "          y_pred = np.round(y_pred)\n",
        "\n",
        "        val_k_fold_score= accuracy_score(y_val,y_pred)\n",
        "        val_classifier_score.append(val_k_fold_score)\n",
        "\n",
        "    val_scores_all.append((clf_name,val_classifier_score))\n"
      ],
      "metadata": {
        "id": "oYUHIzOgu4B1"
      },
      "execution_count": null,
      "outputs": []
    },
    {
      "cell_type": "code",
      "source": [
        "fig, axes = plt.subplots(1, 3, figsize=(20,4))\n",
        "for i, (clf_name,clf) in  enumerate(classifiers.items()):\n",
        "  y_pred = clf.predict(scalled_x_test)\n",
        "  if clf_name ==\"Support Vector Machine\":\n",
        "    y_pred = np.round(y_pred)\n",
        "  cm = confusion_matrix(y_test, y_pred, labels=np.unique(y))\n",
        "  ax = axes[i]\n",
        "  im = ax.imshow(cm, interpolation='nearest', cmap=plt.cm.BrBG)\n",
        "  ax.set_xticks(np.arange(len(class_names)))\n",
        "  ax.set_yticks(np.arange(len(class_names)))\n",
        "  ax.set_xticklabels(class_names,rotation=45)\n",
        "  if i==0:\n",
        "    ax.set_yticklabels(class_names)\n",
        "  ax.set_title(f'{clf_name}')\n",
        "\n",
        "  for i in range(len(class_names)):\n",
        "      for j in range(len(class_names)):\n",
        "          ax.text(j, i, str(cm[i, j]), ha='center', va='center', color='white' if cm[i, j] > cm.max() / 2 else 'black')\n",
        "cbar = fig.colorbar(im, ax=axes.ravel().tolist(), shrink=0.6)\n",
        "cbar.ax.set_ylabel('Number of samples')\n",
        "\n",
        "fig.suptitle(f'Confusion matrices')\n",
        "\n",
        "plt.show()"
      ],
      "metadata": {
        "colab": {
          "base_uri": "https://localhost:8080/",
          "height": 509
        },
        "id": "trTymQSgRXvW",
        "outputId": "8ad31405-aed2-4a9d-e851-2d9ad42e5f5d"
      },
      "execution_count": null,
      "outputs": [
        {
          "output_type": "display_data",
          "data": {
            "text/plain": [
              "<Figure size 2000x400 with 4 Axes>"
            ],
            "image/png": "[encoded data removed]"
          },
          "metadata": {}
        }
      ]
    },
    {
      "cell_type": "markdown",
      "source": [
        "7)i) Based on the Confusion matrix visualization neural netwrok as the it has best diagonal values for all class, even though the SVM have max values for one class but for other classes the values are low."
      ],
      "metadata": {
        "id": "7QTHXFuVmNF_"
      }
    },
    {
      "cell_type": "code",
      "source": [
        "for clf_name, scores in val_scores_all:\n",
        "  print(f\"{clf_name} Mean Val accuracy accross K folds {np.mean(scores)}\")"
      ],
      "metadata": {
        "colab": {
          "base_uri": "https://localhost:8080/"
        },
        "id": "hkhjgH87YjwB",
        "outputId": "725528a8-c1fd-44d2-d167-63b304a4e397"
      },
      "execution_count": null,
      "outputs": [
        {
          "output_type": "stream",
          "name": "stdout",
          "text": [
            "Support Vector Machine Mean Val accuracy accross K folds 0.3052631578947368\n",
            "Neural Network Mean Val accuracy accross K folds 0.3368421052631579\n",
            "Ada Boost Mean Val accuracy accross K folds 0.3140350877192982\n"
          ]
        }
      ]
    },
    {
      "cell_type": "markdown",
      "source": [
        "7)ii) neural network is best method based on the mean validation accuracies"
      ],
      "metadata": {
        "id": "H5ge1bfCmCjE"
      }
    },
    {
      "cell_type": "code",
      "source": [
        "from sklearn.metrics import f1_score"
      ],
      "metadata": {
        "id": "USBlTpOo7qOt"
      },
      "execution_count": null,
      "outputs": []
    },
    {
      "cell_type": "code",
      "source": [
        "scores = []\n",
        "f_scores = []\n",
        "for clf_name, clf in classifiers.items():\n",
        "  clf.fit(scalled_x_train,y_train)\n",
        "  y_pred = clf.predict(scalled_x_test)\n",
        "  if clf_name == \"Support Vector Machine\":\n",
        "    y_pred = np.round(y_pred)\n",
        "  score = accuracy_score(y_test,y_pred)\n",
        "  f1_micro = f1_score(y_test, y_pred, average='micro')\n",
        "\n",
        "  f1_macro = f1_score(y_test, y_pred, average='macro')\n",
        "\n",
        "  f1_weighted = f1_score(y_test, y_pred, average='weighted')\n",
        "\n",
        "  scores.append(score)\n",
        "  f_scores.append(np.mean([f1_micro,f1_macro,f1_weighted]))\n",
        "\n",
        "\n",
        "\n"
      ],
      "metadata": {
        "id": "k6fsQsf85COP"
      },
      "execution_count": null,
      "outputs": []
    },
    {
      "cell_type": "code",
      "source": [
        "for clf_name, acc, f1 in zip(classifiers,scores,f_scores):\n",
        "  print(f\"{clf_name} has Test accuracy  {acc} and F1 score {f1}\")\n"
      ],
      "metadata": {
        "colab": {
          "base_uri": "https://localhost:8080/"
        },
        "id": "uxjaRGCb74OU",
        "outputId": "4fe2a870-1c28-4bb5-ff81-d0bb4c0f95df"
      },
      "execution_count": null,
      "outputs": [
        {
          "output_type": "stream",
          "name": "stdout",
          "text": [
            "Support Vector Machine has Test accuracy  0.32867132867132864 and F1 score 0.2807243925664978\n",
            "Neural Network has Test accuracy  0.34965034965034963 and F1 score 0.33722237901005947\n",
            "Ada Boost has Test accuracy  0.32167832167832167 and F1 score 0.31471541560104316\n"
          ]
        }
      ]
    },
    {
      "cell_type": "markdown",
      "source": [
        "7)iii)&iv) Neural Network is best in both Test accuracy and F1 score"
      ],
      "metadata": {
        "id": "P2JVoBz482gf"
      }
    },
    {
      "cell_type": "code",
      "source": [],
      "metadata": {
        "id": "oXi1K9w9d03F"
      },
      "execution_count": null,
      "outputs": []
    }
  ]
}