{
  "nbformat": 4,
  "nbformat_minor": 0,
  "metadata": {
    "colab": {
      "provenance": [],
      "include_colab_link": true
    },
    "kernelspec": {
      "name": "python3",
      "display_name": "Python 3"
    },
    "language_info": {
      "name": "python"
    }
  },
  "cells": [
    {
      "cell_type": "markdown",
      "metadata": {
        "id": "view-in-github",
        "colab_type": "text"
      },
      "source": [
        "<a href=\"https://colab.research.google.com/github/Harsha-m416/Stanford_Dogs_Data/blob/main/Mulinti_DM1_Programing_Assignment_4.ipynb\" target=\"_parent\"><img src=\"https://colab.research.google.com/assets/colab-badge.svg\" alt=\"Open In Colab\"/></a>"
      ]
    },
    {
      "cell_type": "code",
      "source": [
        "import pandas as pd\n",
        "import cv2\n",
        "import os\n",
        "import numpy as np\n",
        "import warnings\n",
        "from skimage.color import rgb2gray\n",
        "from skimage import io, exposure, filters\n",
        "from sklearn.preprocessing import StandardScaler\n",
        "from sklearn.decomposition import PCA\n",
        "from sklearn.cluster import KMeans, SpectralClustering, BisectingKMeans\n",
        "from sklearn.cluster import DBSCAN, AgglomerativeClustering\n",
        "from sklearn.metrics import fowlkes_mallows_score, silhouette_score"
      ],
      "metadata": {
        "id": "n1QsVSj_ROGN"
      },
      "execution_count": 2,
      "outputs": []
    },
    {
      "cell_type": "code",
      "source": [
        "warnings.filterwarnings('ignore')"
      ],
      "metadata": {
        "id": "oRYCJ_0qRShV"
      },
      "execution_count": 3,
      "outputs": []
    },
    {
      "cell_type": "markdown",
      "source": [
        "# 1. Feature Extraction"
      ],
      "metadata": {
        "id": "zFkqYfQmC6Kr"
      }
    },
    {
      "cell_type": "code",
      "source": [
        "def calculate_gradient_angle(dx, dy):\n",
        "    \"\"\"Calculate the angles between horizontal and vertical operators.\"\"\"\n",
        "    return np.mod(np.arctan2(dy, dx), np.pi)"
      ],
      "metadata": {
        "id": "nzjGVZtDRUVw"
      },
      "execution_count": 4,
      "outputs": []
    },
    {
      "cell_type": "code",
      "source": [
        "data_directory = \"/content/drive/MyDrive/data_mining/processed\"\n",
        "\n",
        "class_labels = ['Basenji','Airedale','Brittany_spaniel','Bouvier_des_flandres']"
      ],
      "metadata": {
        "id": "McrBSxJpRXF0"
      },
      "execution_count": 5,
      "outputs": []
    },
    {
      "cell_type": "code",
      "source": [
        "dataframe = pd.DataFrame(columns = list(range(0,36))+['class'])\n",
        "class_folders = os.listdir(data_directory)\n",
        "for folder in class_folders:\n",
        "  class_path = os.path.join(data_directory, folder)\n",
        "  for i, label in enumerate(class_labels):\n",
        "    if label.lower() == folder.split(\"-\")[-1].lower():\n",
        "      class_num = i\n",
        "  for filename in os.listdir(class_path):\n",
        "    img = io.imread(os.path.join(class_path,filename))\n",
        "    gray_image = rgb2gray(img)\n",
        "    angle_sobel = calculate_gradient_angle(filters.sobel_h(gray_image),\n",
        "                    filters.sobel_v(gray_image))\n",
        "    hist,bins = exposure.histogram(angle_sobel,nbins=36)\n",
        "    dataframe.loc[len(dataframe)] = list(hist)+[class_num]\n",
        "\n"
      ],
      "metadata": {
        "id": "tVHDRvQVRu-L"
      },
      "execution_count": 6,
      "outputs": []
    },
    {
      "cell_type": "code",
      "source": [
        "scaler = StandardScaler()\n",
        "scaler.fit(dataframe[dataframe.columns[:-1]])\n",
        "\n",
        "data = dataframe[dataframe.columns[:-1]]\n",
        "\n",
        "original_class_labels = np.array(dataframe[dataframe.columns[-1]])\n",
        "\n",
        "scaled_data = scaler.transform(data)"
      ],
      "metadata": {
        "id": "ERRuVLCpRxoU"
      },
      "execution_count": 7,
      "outputs": []
    },
    {
      "cell_type": "markdown",
      "source": [
        "# 2. PCA Dimension Reduction"
      ],
      "metadata": {
        "id": "P0ftmiQgC9yE"
      }
    },
    {
      "cell_type": "code",
      "source": [
        "pca = PCA(n_components=2)\n",
        "\n",
        "transformed_data = pca.fit_transform(scaled_data)"
      ],
      "metadata": {
        "id": "XBvsABQ8R46W"
      },
      "execution_count": 8,
      "outputs": []
    },
    {
      "cell_type": "markdown",
      "source": [
        "# 3. Clustering"
      ],
      "metadata": {
        "id": "3IW4A7D0DCwr"
      }
    },
    {
      "cell_type": "code",
      "execution_count": 11,
      "metadata": {
        "id": "L7hQjUWGQ-zF"
      },
      "outputs": [],
      "source": [
        "# K-means clustering with init='random'\n",
        "kmeans_random = KMeans(n_clusters=4, init='random', random_state=42)\n",
        "kmeans_random.fit(transformed_data)\n",
        "kmeans_random_labels = kmeans_random.labels_\n",
        "\n",
        "# K-means clustering with init='k-means++'\n",
        "kmeans_kmeans_pp = KMeans(n_clusters=4, init='k-means++', random_state=42)\n",
        "kmeans_kmeans_pp.fit(transformed_data)\n",
        "kmeans_kmeans_pp_labels = kmeans_kmeans_pp.labels_\n",
        "\n",
        "# Bisecting K-means clustering with init='random'\n",
        "bisecting_kmeans_random = BisectingKMeans(n_clusters=4, init='random', random_state=42)\n",
        "bisecting_kmeans_random.fit(transformed_data)\n",
        "bisecting_kmeans_random_labels = bisecting_kmeans_random.labels_\n",
        "\n",
        "# Spectral clustering with default parameters\n",
        "spectral_clustering = SpectralClustering(n_clusters=4, random_state=42)\n",
        "spectral_clustering.fit(transformed_data)\n",
        "spectral_clustering_labels = spectral_clustering.labels_\n",
        "\n",
        "# DBSCAN\n",
        "dbscan = DBSCAN(eps=0.5, min_samples=2)\n",
        "dbscan.fit(data)\n",
        "dbscan_labels = dbscan.labels_\n",
        "\n",
        "# Agglomerative clustering with different linkage methods\n",
        "agglomerative_single = AgglomerativeClustering(n_clusters=4, linkage='single')\n",
        "agglomerative_single.fit(data)\n",
        "agglomerative_single_labels = agglomerative_single.labels_\n",
        "\n",
        "agglomerative_complete = AgglomerativeClustering(n_clusters=4, linkage='complete')\n",
        "agglomerative_complete.fit(data)\n",
        "agglomerative_complete_labels = agglomerative_complete.labels_\n",
        "\n",
        "agglomerative_average = AgglomerativeClustering(n_clusters=4, linkage='average')\n",
        "agglomerative_average.fit(data)\n",
        "agglomerative_average_labels = agglomerative_average.labels_\n",
        "\n",
        "agglomerative_ward = AgglomerativeClustering(n_clusters=4, linkage='ward')\n",
        "agglomerative_ward.fit(data)\n",
        "agglomerative_ward_labels = agglomerative_ward.labels_\n",
        "\n"
      ]
    },
    {
      "cell_type": "markdown",
      "source": [
        "# 4. Calculate Scores"
      ],
      "metadata": {
        "id": "ZpuQbCfnDF1N"
      }
    },
    {
      "cell_type": "code",
      "source": [
        "fowlkes_mallows_scores = {\n",
        "    'K-means (Random)': fowlkes_mallows_score(original_class_labels, kmeans_random_labels),\n",
        "    'K-means (k-means++)': fowlkes_mallows_score(original_class_labels, kmeans_kmeans_pp_labels),\n",
        "    'Bisecting K-means': fowlkes_mallows_score(original_class_labels, bisecting_kmeans_random_labels),\n",
        "    'Spectral Clustering': fowlkes_mallows_score(original_class_labels, spectral_clustering_labels),\n",
        "    'DBSCAN': fowlkes_mallows_score(original_class_labels, dbscan_labels),\n",
        "    'Agglomerative (Single link)': fowlkes_mallows_score(original_class_labels, agglomerative_single_labels),\n",
        "    'Agglomerative (Complete link)': fowlkes_mallows_score(original_class_labels, agglomerative_complete_labels),\n",
        "    'Agglomerative (Group Average)': fowlkes_mallows_score(original_class_labels, agglomerative_average_labels),\n",
        "    'Agglomerative (Ward)': fowlkes_mallows_score(original_class_labels, agglomerative_ward_labels)\n",
        "}"
      ],
      "metadata": {
        "id": "Ts4u9cCvR9tG"
      },
      "execution_count": 12,
      "outputs": []
    },
    {
      "cell_type": "code",
      "source": [
        "silhouette_scores = {\n",
        "    'K-means (Random)': silhouette_score(transformed_data, kmeans_random_labels),\n",
        "    'K-means (k-means++)': silhouette_score(transformed_data, kmeans_kmeans_pp_labels),\n",
        "    'Bisecting K-means': silhouette_score(transformed_data, bisecting_kmeans_random_labels),\n",
        "    'Spectral Clustering': silhouette_score(transformed_data, spectral_clustering_labels),\n",
        "    'DBSCAN': silhouette_score(transformed_data, dbscan_labels),\n",
        "    'Agglomerative (Single link)': silhouette_score(transformed_data, agglomerative_single_labels),\n",
        "    'Agglomerative (Complete link)': silhouette_score(transformed_data, agglomerative_complete_labels),\n",
        "    'Agglomerative (Group Average)': silhouette_score(transformed_data, agglomerative_average_labels),\n",
        "    'Agglomerative (Ward)': silhouette_score(transformed_data, agglomerative_ward_labels)\n",
        "}"
      ],
      "metadata": {
        "id": "WGNPrlxHR_zp"
      },
      "execution_count": 13,
      "outputs": []
    },
    {
      "cell_type": "markdown",
      "source": [
        "# Rank Scores"
      ],
      "metadata": {
        "id": "7evsNAgdDN-b"
      }
    },
    {
      "cell_type": "code",
      "source": [
        "ranked_methods_fm = sorted(fowlkes_mallows_scores.items(), key=lambda x: x[1], reverse=True)\n",
        "print(\"Ranking based on Fowlkes-Mallows index:\")\n",
        "for method, score in ranked_methods_fm:\n",
        "    print(f\"{method}: {score}\")"
      ],
      "metadata": {
        "colab": {
          "base_uri": "https://localhost:8080/"
        },
        "id": "EYV6iRh8CrJK",
        "outputId": "e52d4412-905f-4f8f-901a-aa539c31bd37"
      },
      "execution_count": 15,
      "outputs": [
        {
          "output_type": "stream",
          "name": "stdout",
          "text": [
            "Ranking based on Fowlkes-Mallows index:\n",
            "DBSCAN: 0.5002698125334627\n",
            "Agglomerative (Single link): 0.4984317900355655\n",
            "Agglomerative (Complete link): 0.433116968386077\n",
            "Agglomerative (Group Average): 0.4323712267130742\n",
            "Agglomerative (Ward): 0.3494824532576536\n",
            "Spectral Clustering: 0.3448680331177179\n",
            "K-means (k-means++): 0.29276677234334564\n",
            "K-means (Random): 0.29264973176469217\n",
            "Bisecting K-means: 0.283495760257754\n"
          ]
        }
      ]
    },
    {
      "cell_type": "code",
      "source": [
        "ranked_methods_silhouette = sorted(silhouette_scores.items(), key=lambda x: x[1], reverse=True)\n",
        "print(\"\\nRanking based on Silhouette Coefficient:\")\n",
        "for method, score in ranked_methods_silhouette:\n",
        "    print(f\"{method}: {score}\")"
      ],
      "metadata": {
        "colab": {
          "base_uri": "https://localhost:8080/"
        },
        "id": "vd4mavK6Czd0",
        "outputId": "4884eb12-d39e-42c8-8197-a92b432c0993"
      },
      "execution_count": 16,
      "outputs": [
        {
          "output_type": "stream",
          "name": "stdout",
          "text": [
            "\n",
            "Ranking based on Silhouette Coefficient:\n",
            "DBSCAN: 0.5191030010671098\n",
            "K-means (Random): 0.44865130193551783\n",
            "K-means (k-means++): 0.4473471041006935\n",
            "Agglomerative (Complete link): 0.442676295573699\n",
            "Agglomerative (Group Average): 0.4149510208189473\n",
            "Spectral Clustering: 0.3890738513559013\n",
            "Bisecting K-means: 0.3879733401290354\n",
            "Agglomerative (Ward): 0.37429613326368116\n",
            "Agglomerative (Single link): 0.16868010189535632\n"
          ]
        }
      ]
    },
    {
      "cell_type": "code",
      "source": [],
      "metadata": {
        "id": "hBcL-J3mC31E"
      },
      "execution_count": null,
      "outputs": []
    }
  ]
}